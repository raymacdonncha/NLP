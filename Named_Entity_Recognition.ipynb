{
 "cells": [
  {
   "cell_type": "markdown",
   "id": "bda91905",
   "metadata": {},
   "source": [
    "**Named Entity Recognition (NER)** is a subtask of information extraction in natural language processing. Its primary goal is to identify and classify named entities (such as names of people, organizations, locations, dates, and more) within a given text.<br><br>NER systems analyze the text and locate spans of words or tokens that correspond to specific entity types, such as persons, places, or dates.<br><br>NER is a crucial component in various NLP applications, including information retrieval, question answering, and named entity linking. It helps extract structured information from unstructured text, making it easier to analyze and derive insights from large volumes of textual data. "
   ]
  },
  {
   "cell_type": "markdown",
   "id": "a9bf5445",
   "metadata": {},
   "source": [
    "### Importing libraries"
   ]
  },
  {
   "cell_type": "code",
   "execution_count": 1,
   "id": "102dc7b3",
   "metadata": {},
   "outputs": [],
   "source": [
    "#optional\n",
    "#!pip install tkinterhtml "
   ]
  },
  {
   "cell_type": "code",
   "execution_count": 2,
   "id": "b7f462c6",
   "metadata": {},
   "outputs": [],
   "source": [
    "import spacy\n",
    "from spacy import displacy\n",
    "from ipywidgets import interact, widgets, Layout, VBox, HTML\n",
    "from IPython.display import display, clear_output"
   ]
  },
  {
   "cell_type": "markdown",
   "id": "dd2a8613",
   "metadata": {},
   "source": [
    "### Loading the Named Entity Recognition Model\n",
    "The **\"en_core_web_sm\" model** is a pre-trained natural language processing (NLP) model provided by spaCy for English text. It's a small and efficient model that is designed for a wide range of NLP tasks, including tokenization, part-of-speech tagging, dependency parsing, and of course in our case, Named Entity Recognition (NER).\n",
    "\n",
    "The steps taken for NER can be summarised as follows:\n",
    "1. **Tokenization:** The first step in NER is tokenization, where the input text is divided into individual words or tokens. Each token represents a unit of meaning in the text, and this step is crucial because NER operates at the token level.\n",
    "\n",
    "2. **Part-of-Speech Tagging (POS):** NER often begins with part-of-speech tagging. Each token is tagged with its grammatical part of speech (e.g., noun, verb, adjective). This information helps NER models understand the syntactic structure of the text.\n",
    "\n",
    "3. **Dependency Parsing:** NER systems may also perform dependency parsing. Dependency parsing analyzes the relationships between tokens in a sentence. For example, it identifies which words are the subjects, objects, and modifiers in a sentence. This information can be useful in understanding the context of named entities.\n",
    "\n",
    "3. **Pattern Matching and Machine Learning:** NER can be approached through rule-based systems or machine learning models. In rule-based systems, predefined patterns or rules are used to identify entities based on their surrounding words, grammatical structures, or regular expressions. Machine learning models, such as conditional random fields (CRFs) or deep learning models like bidirectional LSTMs, learn to recognize entities from labeled training data.\n",
    "\n",
    "4. **Feature Extraction:** For machine learning-based NER, features are extracted from the tokens and their context. These features may include word embeddings, part-of-speech tags, dependency relationships, and more. These features are used as input to the NER model.\n",
    "\n",
    "5. **Classification:** In the core of NER, the model classifies each token or span of tokens into predefined entity categories. The model assigns a label to each token, indicating whether it belongs to an entity and, if so, which type of entity (e.g., PERSON, ORGANIZATION, LOCATION).\n",
    "\n",
    "6. **Contextual Analysis:** NER models often consider the context of tokens to make entity recognition more accurate. They take into account neighboring words and the relationships between them. For example, \"Apple\" might be classified as an ORGANIZATION when referring to the technology company but as a FRUIT in a different context."
   ]
  },
  {
   "cell_type": "code",
   "execution_count": 3,
   "id": "f10defc9",
   "metadata": {},
   "outputs": [],
   "source": [
    "# Load the English NER model\n",
    "nlp = spacy.load(\"en_core_web_sm\")"
   ]
  },
  {
   "cell_type": "markdown",
   "id": "598b00da",
   "metadata": {},
   "source": [
    "### Creating an interactive GUI"
   ]
  },
  {
   "cell_type": "code",
   "execution_count": 4,
   "id": "992b9d89",
   "metadata": {},
   "outputs": [],
   "source": [
    "# Create a Text widget for input\n",
    "text_input = widgets.Textarea(\n",
    "    value='',\n",
    "    placeholder='Enter text...',\n",
    "    layout=Layout(width='95%', height='150px')\n",
    ")\n",
    "\n",
    "# Create an Output widget for displaying NER visualization\n",
    "output = widgets.Output(layout=Layout(width='95%', height='auto'))"
   ]
  },
  {
   "cell_type": "markdown",
   "id": "a23672f1",
   "metadata": {},
   "source": [
    "### Mapping explanations for each NER label available in our model"
   ]
  },
  {
   "cell_type": "code",
   "execution_count": 5,
   "id": "88ed1657",
   "metadata": {},
   "outputs": [],
   "source": [
    "explanation_mapping = {\n",
    "    \"PERSON\": \"Person's name\",\n",
    "    \"NORP\": \"Nationality, Religious, or Political Group\",\n",
    "    \"FAC\": \"Building, airport, highway, bridge, etc.\",\n",
    "    \"ORG\": \"Organization, company, agency, institution, etc.\",\n",
    "    \"GPE\": \"Countries, cities, states\",\n",
    "    \"LOC\": \"Non-GPE locations, mountain ranges, bodies of water\",\n",
    "    \"PRODUCT\": \"Objects, vehicles, foods, etc. (not services)\",\n",
    "    \"EVENT\": \"Named hurricanes, battles, wars, sports events, etc.\",\n",
    "    \"WORK_OF_ART\": \"Titles of books, songs, etc.\",\n",
    "    \"LAW\": \"Named documents made into laws\",\n",
    "    \"LANGUAGE\": \"Any named language\",\n",
    "    \"DATE\": \"Absolute or relative dates or periods\",\n",
    "    \"TIME\": \"Times smaller than a day\",\n",
    "    \"PERCENT\": \"Percentage, including '%'\",\n",
    "    \"MONEY\": \"Monetary values, including unit\",\n",
    "    \"QUANTITY\": \"Measurements, as of weight or distance\",\n",
    "    \"ORDINAL\": \"Ordinal numbers (e.g., 'first', 'second')\",\n",
    "    \"CARDINAL\": \"Cardinal numbers (e.g., 'one', 'two')\",\n",
    "    # Add more labels and explanations here\n",
    "}\n"
   ]
  },
  {
   "cell_type": "markdown",
   "id": "d07bf68a",
   "metadata": {},
   "source": [
    "#### Creating the function that calls our NER model when we input our text, and generates the output and explanations"
   ]
  },
  {
   "cell_type": "code",
   "execution_count": 6,
   "id": "e213b9d1",
   "metadata": {},
   "outputs": [],
   "source": [
    "# Define a function to process text and display NER visualization\n",
    "def process_text(change):\n",
    "    text = text_input.value\n",
    "    doc = nlp(text)\n",
    "    \n",
    "    with output:\n",
    "        clear_output()  # Clear the previous content\n",
    "        \n",
    "        # Display NER visualization\n",
    "        html = displacy.render(doc, style=\"ent\", page=True)\n",
    "        display(HTML(html))  # Use display(HTML(html)) to show the HTML content\n",
    "        \n",
    "        # Display legends in the order they appear in the input text\n",
    "        legend_html = \"<b>NER Label Explanations:</b><br>\"\n",
    "        for ent in doc.ents:\n",
    "            label = ent.label_\n",
    "            if label in explanation_mapping:\n",
    "                explanation = explanation_mapping[label]\n",
    "                legend_html += f\"<b>{label}:</b> {explanation}<br>\"\n",
    "        display(HTML(legend_html))\n",
    "\n",
    "# Attach the process_text function to the text_input widget's value change event\n",
    "text_input.observe(process_text, names='value')\n",
    "\n",
    "# Create a VBox layout to display widgets vertically\n",
    "layout = VBox([text_input, output])"
   ]
  },
  {
   "cell_type": "markdown",
   "id": "29525a9a",
   "metadata": {},
   "source": [
    "### Running the model"
   ]
  },
  {
   "cell_type": "code",
   "execution_count": 7,
   "id": "455a416e",
   "metadata": {},
   "outputs": [
    {
     "data": {
      "application/vnd.jupyter.widget-view+json": {
       "model_id": "2788926814f045a4a4caaf26a247b06f",
       "version_major": 2,
       "version_minor": 0
      },
      "text/plain": [
       "VBox(children=(Textarea(value='', layout=Layout(height='150px', width='95%'), placeholder='Enter text...'), Ou…"
      ]
     },
     "metadata": {},
     "output_type": "display_data"
    }
   ],
   "source": [
    "display(layout)"
   ]
  }
 ],
 "metadata": {
  "kernelspec": {
   "display_name": "Python 3 (ipykernel)",
   "language": "python",
   "name": "python3"
  },
  "language_info": {
   "codemirror_mode": {
    "name": "ipython",
    "version": 3
   },
   "file_extension": ".py",
   "mimetype": "text/x-python",
   "name": "python",
   "nbconvert_exporter": "python",
   "pygments_lexer": "ipython3",
   "version": "3.11.4"
  }
 },
 "nbformat": 4,
 "nbformat_minor": 5
}
