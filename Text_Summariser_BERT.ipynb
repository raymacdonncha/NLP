{
 "cells": [
  {
   "cell_type": "markdown",
   "id": "282f27f1",
   "metadata": {},
   "source": [
    "### Import Necessary Libraries:\n",
    "Import the necessary libraries, including ipywidgets for creating interactive widgets and the transformers library for BERT-based summarization."
   ]
  },
  {
   "cell_type": "code",
   "execution_count": 1,
   "id": "96224545",
   "metadata": {
    "scrolled": true
   },
   "outputs": [],
   "source": [
    "#!pip install bert-extractive-summarizer transformers torch"
   ]
  },
  {
   "cell_type": "code",
   "execution_count": 2,
   "id": "dfa2bec3",
   "metadata": {},
   "outputs": [],
   "source": [
    "import ipywidgets as widgets\n",
    "from IPython.display import display\n",
    "from summarizer import Summarizer\n",
    "import warnings\n",
    "\n",
    "# Suppress all warnings\n",
    "warnings.filterwarnings(\"ignore\")"
   ]
  },
  {
   "cell_type": "markdown",
   "id": "6a9d8bd2",
   "metadata": {},
   "source": [
    "### Create Interactive Widgets:\n",
    "Create interactive widgets for user input:\n",
    "- text_input: A textarea widget for entering or pasting text.\n",
    "- num_sentences_input: A slider widget for selecting the number of sentences in the summary.\n",
    "- summarize_button: A button widget for triggering the summarization process.\n",
    "- output: An output widget for displaying the summary."
   ]
  },
  {
   "cell_type": "code",
   "execution_count": 3,
   "id": "e19e72cb",
   "metadata": {},
   "outputs": [],
   "source": [
    "text_input = widgets.Textarea(\n",
    "    value=\"Enter your text here...\",\n",
    "    placeholder=\"Type or paste text here\",\n",
    "    layout={'width': '100%', 'height': '200px'}\n",
    ")\n",
    "\n",
    "\n",
    "num_sentences_input = widgets.IntSlider(\n",
    "    value=3, min=1, max=10, step=1,\n",
    "    description='Number of Sentences:',\n",
    "    layout={'width': '80%'},\n",
    "    style={'description_width': 'initial'}  # Adjust the width as needed    \n",
    ")\n",
    "\n",
    "summarize_button = widgets.Button(description=\"Summarize\")\n",
    "output = widgets.Output()\n"
   ]
  },
  {
   "cell_type": "markdown",
   "id": "16b7187d",
   "metadata": {},
   "source": [
    "### Running the BERT Model\n",
    "**BERT (Bidirectional Encoder Representations from Transformers):**\n",
    "BERT is a state-of-the-art natural language processing (NLP) model developed by Google. It belongs to the Transformer architecture family, which has revolutionized various NLP tasks. BERT is pre-trained on a massive corpus of text and can be fine-tuned for various downstream tasks, including text summarization.<br>\n",
    "\n",
    "**How BERT Works:**\n",
    "\n",
    "Pre-training: BERT is initially pre-trained on a large amount of text data. During pre-training, BERT learns to predict missing words in sentences (masked language modeling) and to understand the context of words in a sentence. It uses a bidirectional context, meaning it considers both the left and right context of each word.\n",
    "\n",
    "Transformers Architecture: BERT uses the Transformer architecture, which consists of multiple layers of self-attention mechanisms and feedforward neural networks. This architecture allows BERT to capture complex relationships between words in a sentence.\n",
    "\n",
    "Fine-tuning: After pre-training, BERT can be fine-tuned on specific NLP tasks. Fine-tuning involves training the model on a smaller dataset related to the target task, such as text summarization. During fine-tuning, the model's parameters are adjusted to perform well on the specific task.\n",
    "\n",
    "**In the Context of this Code:**\n",
    "\n",
    "- The BERT-based summarization model is loaded using the pipeline function from the Hugging Face Transformers library.\n",
    "\n",
    "- The summarizer pipeline is configured to perform text summarization. It uses the \"bert-base-uncased\" model for summarization, which is a pre-trained BERT model that has been fine-tuned for text summarization tasks.\n",
    "\n",
    "#### Define the Function on Button Click:\n",
    "Define the on_summarize_button_click function to be executed when the \"Summarize\" button is clicked.\n",
    "Inside the function:\n",
    "- Clear the output area.\n",
    "- Retrieve the input text and the selected number of sentences.\n",
    "- Load the BERT-based summarization model using the Hugging Face Transformers library.\n",
    "- Generate a summary of the input text using the summarization model.\n",
    "- Print the generated summary."
   ]
  },
  {
   "cell_type": "code",
   "execution_count": 4,
   "id": "69cd1d2b",
   "metadata": {},
   "outputs": [],
   "source": [
    "# Define the function to be called on button click\n",
    "def on_summarize_button_click(b):\n",
    "    with output:\n",
    "        output.clear_output()\n",
    "        text = text_input.value\n",
    "        num_sentences = num_sentences_input.value\n",
    "        model = Summarizer()\n",
    "        summary = model(text, num_sentences=num_sentences)\n",
    "        print(\"Summary:\\n\")\n",
    "        print(summary)\n",
    "\n",
    "summarize_button.on_click(on_summarize_button_click)"
   ]
  },
  {
   "cell_type": "markdown",
   "id": "b3500797",
   "metadata": {},
   "source": [
    "### Running the model\n",
    "Now we will run the code, generating a window that will allow us to input the text of our choice and use a slider to determine the number of sentences in the output.<br><br>\n",
    "As a test, we will enter the opening section of the Wikipedia entry on the planet Mars, https://en.wikipedia.org/wiki/Mars (a total of 411 words)."
   ]
  },
  {
   "cell_type": "code",
   "execution_count": 5,
   "id": "d9f5a8cb",
   "metadata": {
    "scrolled": false
   },
   "outputs": [
    {
     "data": {
      "application/vnd.jupyter.widget-view+json": {
       "model_id": "ad606b65a3d747558a597fcb7f5cc1e4",
       "version_major": 2,
       "version_minor": 0
      },
      "text/plain": [
       "Textarea(value='Enter your text here...', layout=Layout(height='200px', width='100%'), placeholder='Type or pa…"
      ]
     },
     "metadata": {},
     "output_type": "display_data"
    },
    {
     "data": {
      "application/vnd.jupyter.widget-view+json": {
       "model_id": "0acbeca496234795ad2d82fb55c30e3e",
       "version_major": 2,
       "version_minor": 0
      },
      "text/plain": [
       "IntSlider(value=3, description='Number of Sentences:', layout=Layout(width='80%'), max=10, min=1, style=Slider…"
      ]
     },
     "metadata": {},
     "output_type": "display_data"
    },
    {
     "data": {
      "application/vnd.jupyter.widget-view+json": {
       "model_id": "d82c935da0ba4835806b482a9fd06665",
       "version_major": 2,
       "version_minor": 0
      },
      "text/plain": [
       "Button(description='Summarize', style=ButtonStyle())"
      ]
     },
     "metadata": {},
     "output_type": "display_data"
    },
    {
     "data": {
      "application/vnd.jupyter.widget-view+json": {
       "model_id": "d957606719594b119744f6e55466306f",
       "version_major": 2,
       "version_minor": 0
      },
      "text/plain": [
       "Output()"
      ]
     },
     "metadata": {},
     "output_type": "display_data"
    }
   ],
   "source": [
    "display(text_input, num_sentences_input, summarize_button, output)"
   ]
  },
  {
   "cell_type": "markdown",
   "id": "bbb44930",
   "metadata": {},
   "source": [
    "**We can see the output is a concise summary of the input, reduced to three sentences and from 411 words to just 54**"
   ]
  }
 ],
 "metadata": {
  "kernelspec": {
   "display_name": "Python 3 (ipykernel)",
   "language": "python",
   "name": "python3"
  },
  "language_info": {
   "codemirror_mode": {
    "name": "ipython",
    "version": 3
   },
   "file_extension": ".py",
   "mimetype": "text/x-python",
   "name": "python",
   "nbconvert_exporter": "python",
   "pygments_lexer": "ipython3",
   "version": "3.11.4"
  }
 },
 "nbformat": 4,
 "nbformat_minor": 5
}
